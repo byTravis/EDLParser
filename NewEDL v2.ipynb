{
 "cells": [
  {
   "cell_type": "markdown",
   "metadata": {},
   "source": [
    "### Libraries"
   ]
  },
  {
   "cell_type": "code",
   "execution_count": 399,
   "metadata": {},
   "outputs": [],
   "source": [
    "from pathlib import Path\n",
    "from pprint import pprint"
   ]
  },
  {
   "cell_type": "markdown",
   "metadata": {},
   "source": [
    "### Variables"
   ]
  },
  {
   "cell_type": "code",
   "execution_count": 400,
   "metadata": {},
   "outputs": [],
   "source": [
    "edl_path = 'reference\\LWABDR60H.edl'\n",
    "drop_frame = False\n",
    "video_edits = []\n",
    "audio_edits = []\n",
    "# edit_files = []"
   ]
  },
  {
   "cell_type": "markdown",
   "metadata": {},
   "source": [
    "### Open File"
   ]
  },
  {
   "cell_type": "code",
   "execution_count": 401,
   "metadata": {},
   "outputs": [],
   "source": [
    "# Opens EDL and extracts its contents into a single string.\n",
    "def open_edl(edl_path):\n",
    "    with open(edl_path, 'r') as edl_file:\n",
    "        edl_contents = edl_file.read()\n",
    "    edl_extract(edl_contents)    "
   ]
  },
  {
   "cell_type": "code",
   "execution_count": 402,
   "metadata": {},
   "outputs": [],
   "source": [
    "# Breasks EDL into a list of fields for each line\n",
    "def edl_extract(edl_contents): \n",
    "    edl_lines = edl_contents.splitlines()\n",
    "\n",
    "    edl_extracted = []\n",
    "\n",
    "    for line in edl_lines:\n",
    "        columns = line.split()\n",
    "        edl_extracted.append(columns)\n",
    "    \n",
    "    \n",
    "    simplify_edl(edl_extracted)\n"
   ]
  },
  {
   "cell_type": "markdown",
   "metadata": {},
   "source": [
    "### Simplify EDL"
   ]
  },
  {
   "cell_type": "code",
   "execution_count": 403,
   "metadata": {},
   "outputs": [],
   "source": [
    "def simplify_edl(edl):\n",
    "\tdetect_dropframe(edl)\n",
    "\tsimplified_edl = []\n",
    "\tfor line in range(0, len(edl)):\n",
    "\t\tedl_line = []\n",
    "\n",
    "\t\tif len(edl[line]) > 3:\n",
    "\t\t\tif edl[line][-1] != edl[line][-2]:  #if this doesn't have duplicate timecode for edits\n",
    "\t\t\t\tedl_line.append(edl[line][2][0])  #video or audio\n",
    "\t\t\t\tedl_line.append(edl[line][3])  #cut or dissolve\n",
    "\n",
    "\t\t\t\tif edl[line][3] == \"C\":\n",
    "\t\t\t\t\tedl_line.append(\"0\")  # dissolve length 0 for cuts\n",
    "\t\t\t\telse:\n",
    "\t\t\t\t\tedl_line.append(edl[line][4]) # dissolve length\n",
    "\n",
    "\t\t\t\tedl_line.append(edl[line][-2])  # in point\n",
    "\t\t\t\tedl_line.append(edl[line][-1])  # out point\n",
    "\n",
    "\t\t\t\tsimplified_edl.append(edl_line)  #  adds edl line to the simplified EDL\n",
    "\n",
    "\n",
    "\t\telif edl[line][0] == \"*\":  # lines with clip note\n",
    "\t\t\tedl_line.append(edl[line][0]) \n",
    "\t\t\tedl_line.append(edl[line][1])\n",
    "\n",
    "\t\t\tsimplified_edl.append(edl_line)  #  adds edl line to the simplified EDL \n",
    "\t\n",
    "\t# pprint(simplified_edl)\n",
    "\n",
    "\tedl_split_video_audio(simplified_edl)\t"
   ]
  },
  {
   "cell_type": "markdown",
   "metadata": {},
   "source": [
    "### Detect Dropframe"
   ]
  },
  {
   "cell_type": "code",
   "execution_count": 404,
   "metadata": {},
   "outputs": [],
   "source": [
    "def detect_dropframe(edl):\n",
    "\tglobal drop_frame\n",
    "     \n",
    "\tif edl[1][0] == \"FCM:\":\n",
    "            if edl[1][1] == \"DROP\":\n",
    "                drop_frame = True\n",
    "            else:\n",
    "                drop_frame = False\n"
   ]
  },
  {
   "cell_type": "markdown",
   "metadata": {},
   "source": [
    "### Split Video and Audio Edits"
   ]
  },
  {
   "cell_type": "code",
   "execution_count": 405,
   "metadata": {},
   "outputs": [],
   "source": [
    "#  Looks for relevant edit information:  Drop/Non-Drop Frame, Title Name, Edits\n",
    "def edl_split_video_audio(edl):\n",
    "    # Clears the edit list for parsing\n",
    "    global video_edits\n",
    "    global audio_edits\n",
    "\n",
    "    edl_video = []\n",
    "    edl_audio = []\n",
    "\n",
    "    for line in range(0, len(edl)):\n",
    "        #  Splits audio and video edits into seperate EDLs\n",
    "        if edl[line][0] == \"V\":\n",
    "            # print(\"video\")\n",
    "            edl_video.append(edl[line])\n",
    "            if line+1 < len(edl): \n",
    "                if edl[line+1][0] == \"*\":\n",
    "                    edl_video.append(edl[line+1])                \n",
    "\n",
    "        if edl[line][0] == \"A\":\n",
    "            # print(\"audio\")\n",
    "            edl_audio.append(edl[line])\n",
    "            if line+1 < len(edl):\n",
    "                if edl[line+1][0] == \"*\":\n",
    "                    edl_audio.append(edl[line+1])\n",
    "\n",
    "\n",
    "    \n",
    "    # Parses the edits\n",
    "    # if edl_video:\n",
    "    #     video_edits = parse_edits(edl_video)\n",
    "\n",
    "    if edl_audio:\n",
    "        audio_edits = parse_edits(edl_audio)\n",
    "\n",
    "    # print(\"=========VIDEO=============\")\n",
    "    # pprint(edl_video)\n",
    "    # print(\"=========AUDIO=============\")\n",
    "    pprint(edl_audio)\n"
   ]
  },
  {
   "cell_type": "markdown",
   "metadata": {},
   "source": [
    "### Parse Edits"
   ]
  },
  {
   "cell_type": "code",
   "execution_count": 406,
   "metadata": {},
   "outputs": [],
   "source": [
    "def parse_edits(edl):\n",
    "    \n",
    "    edit_list = []\n",
    "    for line in range(0, len(edl)):  \n",
    "        edits = {}     \n",
    "\n",
    "        # print(edl[line][0])\n",
    "        \n",
    "        if edl[line][0] == \"*\":  \n",
    "\n",
    "            #  Audio - Cut In - Cut Out\n",
    "            if (edl[line-1][0] == \"A\"):\n",
    "                edits = {\n",
    "                    \"dissolve_in\" : 0,\n",
    "                    \"dissolve_out\" : 0,\n",
    "                    \"edit_in\" : edl[line-1][3],\n",
    "                    \"edit_out\" : edl[line-1][4],\n",
    "                    \"edit_file\" : edl[line][1],            \n",
    "                }\n",
    "                edit_list.append(edits)        \n",
    "\n",
    "            # Dissolve in - Dissolve Out\n",
    "            # elif  (edl[line-1][2][0] == \"V\"):\n",
    "            #     print(edl[line-1][0])\n",
    "   \n",
    "                # edits = {\n",
    "                #     \"dissolve_in\" : int(edl[line-2][4]),\n",
    "                #     \"dissolve_out\" : int(edl[line+2][4]),\n",
    "                #     \"edit_in\" : edl[line-2][7],\n",
    "                #     \"edit_out\" : edl[line+2][8],\n",
    "                #     \"edit_file\" : f\"{edl[line][1]}.nbtitle\",            \n",
    "                # }\n",
    "                # edit_list.append(edits)\n",
    "            \n",
    "            # # Dissolve in - Dissolve Out\n",
    "            # elif  (line+3 <= len(edl) and \n",
    "            #        edl[line][1] == edl[line+3][1] and \n",
    "            #        edl[line-2][3] == \"D\" and \n",
    "            #        edl[line-1][3] == \"C\" and \n",
    "            #        edl[line+2][3] == \"D\"):\n",
    "   \n",
    "            #     edits = {\n",
    "            #         \"dissolve_in\" : int(edl[line-2][4]),\n",
    "            #         \"dissolve_out\" : int(edl[line+2][4]),\n",
    "            #         \"edit_in\" : edl[line-2][7],\n",
    "            #         \"edit_out\" : edl[line+2][8],\n",
    "            #         \"edit_file\" : f\"{edl[line][1]}.nbtitle\",            \n",
    "            #     }\n",
    "            #     edit_list.append(edits)                \n",
    "            \n",
    "            # # Dissolve in - Cut out\n",
    "            # elif (edl[line+1][5] != \"00:00:00:00\" and \n",
    "            #       edl[line-2][3] == \"D\" and \n",
    "            #       edl[line-1][3] == \"C\"):\n",
    "            #     edits = {\n",
    "            #         \"dissolve_in\" : int(edl[line-2][4]),\n",
    "            #         \"dissolve_out\" : 0,\n",
    "            #         \"edit_in\" : edl[line-2][7],\n",
    "            #         \"edit_out\" : edl[line-1][7],\n",
    "            #         \"edit_file\" : f\"{edl[line][1]}.nbtitle\",            \n",
    "            #     }\n",
    "            #     edit_list.append(edits)\n",
    "\n",
    "            # # # Cut in - Dissolve Out\n",
    "            # elif (line+3 <= len(edl) and \n",
    "            #       edl[line][1] == edl[line+3][1] and \n",
    "            #       edl[line-2][3] == \"C\" and edl[line-1][3] == \"C\" and \n",
    "            #       edl[line+2][3] == \"D\"):\n",
    "            #     edits = {\n",
    "            #         \"dissolve_in\" : 0,\n",
    "            #         \"dissolve_out\" : int(edl[line+2][4]),\n",
    "            #         \"edit_in\" : edl[line-1][7],\n",
    "            #         \"edit_out\" : edl[line+2][8],\n",
    "            #         \"edit_file\" : f\"{edl[line][1]}.nbtitle\",            \n",
    "            #     }\n",
    "            #     edit_list.append(edits)\n",
    "\n",
    "            # #  Cut In - Cut Out\n",
    "            # elif (line+1 <= len(edl) and \n",
    "            #       edl[line-2][3] == \"C\" and \n",
    "            #       edl[line-1][3] == \"C\" and \n",
    "            #       edl[line+1][3] == \"C\"):\n",
    "            #     edits = {\n",
    "            #         \"dissolve_in\" : 0,\n",
    "            #         \"dissolve_out\" : 0,\n",
    "            #         \"edit_in\" : edl[line-1][6],\n",
    "            #         \"edit_out\" : edl[line-1][7],\n",
    "            #         \"edit_file\" : f\"{edl[line][1]}.nbtitle\",            \n",
    "            #     }\n",
    "            #     edit_list.append(edits)\n",
    "\n",
    "    return edit_list"
   ]
  },
  {
   "cell_type": "markdown",
   "metadata": {},
   "source": [
    "### Execution "
   ]
  },
  {
   "cell_type": "code",
   "execution_count": 407,
   "metadata": {},
   "outputs": [
    {
     "name": "stdout",
     "output_type": "stream",
     "text": [
      "[['A', 'C', '0', '01:00:56:01', '01:00:58:27'], ['*', '{{$AUDIO}}']]\n",
      "------Audio Edits-------\n",
      "[{'dissolve_in': 0,\n",
      "  'dissolve_out': 0,\n",
      "  'edit_file': '{{$AUDIO}}',\n",
      "  'edit_in': '01:00:56:01',\n",
      "  'edit_out': '01:00:58:27'}]\n"
     ]
    }
   ],
   "source": [
    "open_edl(edl_path)\n",
    "# print(\"------Video Edits-------\")\n",
    "# pprint(video_edits)\n",
    "print(\"------Audio Edits-------\")\n",
    "pprint(audio_edits)"
   ]
  }
 ],
 "metadata": {
  "kernelspec": {
   "display_name": "base",
   "language": "python",
   "name": "python3"
  },
  "language_info": {
   "codemirror_mode": {
    "name": "ipython",
    "version": 3
   },
   "file_extension": ".py",
   "mimetype": "text/x-python",
   "name": "python",
   "nbconvert_exporter": "python",
   "pygments_lexer": "ipython3",
   "version": "3.11.5"
  }
 },
 "nbformat": 4,
 "nbformat_minor": 2
}
