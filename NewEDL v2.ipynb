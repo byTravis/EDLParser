{
 "cells": [
  {
   "cell_type": "markdown",
   "metadata": {},
   "source": [
    "### Libraries"
   ]
  },
  {
   "cell_type": "code",
   "execution_count": 2754,
   "metadata": {},
   "outputs": [],
   "source": [
    "from pathlib import Path\n",
    "from pprint import pprint"
   ]
  },
  {
   "cell_type": "markdown",
   "metadata": {},
   "source": [
    "### Variables"
   ]
  },
  {
   "cell_type": "code",
   "execution_count": 2755,
   "metadata": {},
   "outputs": [],
   "source": [
    "edl_path = 'reference\\z old\\Avid-Sequence.edl'\n",
    "drop_frame = False\n",
    "video_edits = []\n",
    "audio_edits = []\n",
    "# edit_files = []"
   ]
  },
  {
   "cell_type": "markdown",
   "metadata": {},
   "source": [
    "### Open File"
   ]
  },
  {
   "cell_type": "code",
   "execution_count": 2756,
   "metadata": {},
   "outputs": [],
   "source": [
    "# Opens EDL and extracts its contents into a single string.\n",
    "def open_edl(edl_path):\n",
    "    with open(edl_path, 'r') as edl_file:\n",
    "        edl_contents = edl_file.read()\n",
    "    edl_extract(edl_contents)    "
   ]
  },
  {
   "cell_type": "code",
   "execution_count": 2757,
   "metadata": {},
   "outputs": [],
   "source": [
    "# Breasks EDL into a list of fields for each line\n",
    "def edl_extract(edl_contents): \n",
    "    edl_lines = edl_contents.splitlines()\n",
    "\n",
    "    edl_extracted = []\n",
    "\n",
    "    for line in edl_lines:\n",
    "        columns = line.split()\n",
    "        edl_extracted.append(columns)\n",
    "    \n",
    "    \n",
    "    simplify_edl(edl_extracted)\n"
   ]
  },
  {
   "cell_type": "markdown",
   "metadata": {},
   "source": [
    "### Simplify EDL\n",
    "Removes the extra columns and data from the EDL.  It also removes any lines where the in/out point match on the same line and no real edit is being made."
   ]
  },
  {
   "cell_type": "code",
   "execution_count": 2758,
   "metadata": {},
   "outputs": [],
   "source": [
    "def simplify_edl(edl):\n",
    "\tdetect_dropframe(edl)\n",
    "\tsimplified_edl = []\n",
    "\n",
    "\tfor line in range(2, len(edl)):\n",
    "\n",
    "\t\tif edl[line][0] != \"*\" and edl[line][-1] != edl[line][-2]:  #if this doesn't have duplicate timecode for edits\n",
    "\t\t\tedits = {}\n",
    "\t\t\tdissolve_length = 0\n",
    "\n",
    "\t\t\tif edl[line][3] == \"D\":\n",
    "\t\t\t\tdissolve_length = int(edl[line][4])\n",
    "\n",
    "\t\t\tedits = {\n",
    "\t\t\t\t\"media_type\": edl[line][2][0],\n",
    "\t\t\t\t\"edit_type\": edl[line][3],\n",
    "\t\t\t\t\"dissolve_length\": dissolve_length,\n",
    "\t\t\t\t\"edit_in\" : edl[line][-2],\n",
    "\t\t\t\t\"edit_out\" : edl[line][-1]\n",
    "\t\t\t\t}\n",
    "\n",
    "\t\t\tsimplified_edl.append(edits)  #  adds edits to the simplified EDL\n",
    "\n",
    "\n",
    "\t\telif edl[line][0] == \"*\":  # lines with clip note\n",
    "\t\t\tedits = {\n",
    "\t\t\t\t\"media_type\" : edl[line][0],\n",
    "\t\t\t\t\"media_file\": edl[line][1]\n",
    "\t\t\t}\n",
    "\n",
    "\t\t\tsimplified_edl.append(edits)  #  adds edl  to the simplified EDL \n",
    "\t\n",
    "\t# pprint(simplified_edl)\n",
    "\n",
    "\tedl_split_video_audio(simplified_edl)\t"
   ]
  },
  {
   "cell_type": "markdown",
   "metadata": {},
   "source": [
    "### Detect Dropframe\n",
    "Not sure if it's neccisary, but I added the funciton anyway in case we need it."
   ]
  },
  {
   "cell_type": "code",
   "execution_count": 2759,
   "metadata": {},
   "outputs": [],
   "source": [
    "def detect_dropframe(edl):\n",
    "\tglobal drop_frame\n",
    "     \n",
    "\tif edl[1][0] == \"FCM:\":\n",
    "            if edl[1][1] == \"DROP\":\n",
    "                drop_frame = True\n",
    "            else:\n",
    "                drop_frame = False\n"
   ]
  },
  {
   "cell_type": "markdown",
   "metadata": {},
   "source": [
    "### Split Video and Audio Edits"
   ]
  },
  {
   "cell_type": "code",
   "execution_count": 2760,
   "metadata": {},
   "outputs": [],
   "source": [
    "#  Looks for relevant edit information:  Drop/Non-Drop Frame, Title Name, Edits\n",
    "def edl_split_video_audio(edl):\n",
    "    # Clears the edit list for parsing\n",
    "    global video_edits\n",
    "    global audio_edits\n",
    "\n",
    "    edl_video = []\n",
    "    edl_audio = []\n",
    "\n",
    "    for line in range(0, len(edl)):\n",
    "        #  Splits audio and video edits into seperate EDLs\n",
    "        if edl[line][\"media_type\"] == \"V\":\n",
    "            edl_video.append(edl[line])\n",
    "            if line+1 < len(edl) and edl[line+1][\"media_type\"] == \"*\": \n",
    "                edl_video.append(edl[line+1])                \n",
    "\n",
    "        if edl[line][\"media_type\"] == \"A\":\n",
    "            edl_audio.append(edl[line])\n",
    "            if line+1 < len(edl) and edl[line+1][\"media_type\"] == \"*\":\n",
    "                edl_audio.append(edl[line+1])\n",
    "\n",
    "\n",
    "    \n",
    "    # Parses the edits\n",
    "    if edl_video:\n",
    "        video_edits = parse_edits(edl_video)\n",
    "\n",
    "    if edl_audio:\n",
    "        audio_edits = parse_edits(edl_audio)\n",
    "\n",
    "    # print(\"=========VIDEO=============\")\n",
    "    # pprint(edl_video)\n",
    "    # print(\"=========AUDIO=============\")\n",
    "    # pprint(edl_audio)\n"
   ]
  },
  {
   "cell_type": "markdown",
   "metadata": {},
   "source": [
    "### Parse Edits\n",
    "Breaks out each edit out of the EDL.  It seperates the dissolves as their own clip."
   ]
  },
  {
   "cell_type": "code",
   "execution_count": 2761,
   "metadata": {},
   "outputs": [],
   "source": [
    "def parse_edits(edl):\n",
    "    edit_list = []\n",
    "\n",
    "    for line in range(0, len(edl)):  \n",
    "        edits = {} \n",
    "\n",
    "        #  Audio Edits\n",
    "        if line+1 < len(edl) and edl[line][\"media_type\"] == \"A\":\n",
    "            #  Audio - Cut In - Cut Out \n",
    "                # (only option - no audio dissolves done in vantage  - any edits needs to be done on the media file before exporting to vantage)\n",
    "            edits = {\n",
    "                \"type\": \"audio_edit\",\n",
    "                \"dissolve_in\" : 0,\n",
    "                \"dissolve_out\" : 0,\n",
    "                \"edit_in\" : edl[line][\"edit_in\"],\n",
    "                \"edit_out\" : edl[line][\"edit_out\"],\n",
    "                \"media_file\" : edl[line+1][\"media_file\"]            \n",
    "            }\n",
    "            edit_list.append(edits)\n",
    "\n",
    "                \n",
    "\n",
    "        # #  Video Edits\n",
    "        if (edl[line][\"media_type\"] == \"V\"):\n",
    "\n",
    "            #  DISSOLVE IN\n",
    "            if (line+2 < len(edl) and\n",
    "                edl[line][\"edit_type\"] == \"D\" and\n",
    "                edl[line+1][\"media_type\"] != \"*\" and\n",
    "                edl[line+2][\"media_type\"] == \"*\"           \n",
    "                ): \n",
    "\n",
    "                edits = {\n",
    "                    \"type\" : \"dissolve_in\",\n",
    "                    \"dissolve_in\" : edl[line][\"dissolve_length\"],\n",
    "                    \"dissolve_out\" : 0,\n",
    "                    \"edit_in\" : edl[line][\"edit_in\"],\n",
    "                    \"edit_out\" : edl[line][\"edit_out\"],\n",
    "                    \"media_file\" : edl[line+2][\"media_file\"]            \n",
    "                }\n",
    "\n",
    "                edit_list.append(edits)\n",
    "\n",
    "            # #  DISSOLVE OUT\n",
    "            if (line+1 < len(edl) and\n",
    "                edl[line][\"edit_type\"] == \"D\" and \n",
    "                edl[line+1][\"media_type\"] == \"*\"\n",
    "                ): \n",
    "                     \n",
    "                edits = {\n",
    "                    \"type\" : \"dissolve_out\",\n",
    "                    \"dissolve_in\" : 0,\n",
    "                    \"dissolve_out\" : int(edl[line][\"dissolve_length\"]),\n",
    "                    \"edit_in\" : edl[line][\"edit_in\"],\n",
    "                    \"edit_out\" : edl[line][\"edit_out\"],\n",
    "                    \"media_file\" : edl[line+1][\"media_file\"]            \n",
    "                }\n",
    "                  \n",
    "                edit_list.append(edits)\n",
    "\n",
    "            #  CUT IN CUT OUT\n",
    "            if (line+1 < len(edl) and\n",
    "                edl[line][\"edit_type\"] == \"C\" and \n",
    "                edl[line+1][\"media_type\"] == \"*\"\n",
    "                ): \n",
    "                     \n",
    "                edits = {\n",
    "                    \"type\" : \"cut_in_cut_out\",\n",
    "                    \"dissolve_in\" : 0,\n",
    "                    \"dissolve_out\" : 0,\n",
    "                    \"edit_in\" : edl[line][\"edit_in\"],\n",
    "                    \"edit_out\" : edl[line][\"edit_out\"],\n",
    "                    \"media_file\" : edl[line+1][\"media_file\"]            \n",
    "                }\n",
    "                  \n",
    "                edit_list.append(edits)       \n",
    "\n",
    "    consolodated_edits = consolodate_edits(edit_list)\n",
    "\n",
    "    \n",
    "    return consolodated_edits"
   ]
  },
  {
   "cell_type": "markdown",
   "metadata": {},
   "source": [
    "###  Consolodate Edits\n",
    "This adds the dissolves back into the the beginning/ending of applicable cuts-only edits."
   ]
  },
  {
   "cell_type": "code",
   "execution_count": 2762,
   "metadata": {},
   "outputs": [],
   "source": [
    "def consolodate_edits(edl):\n",
    "\tnew_edit_list = []\n",
    "\t\n",
    "\tfor line in range(0, len(edl)):\n",
    "\t\tif edl[line][\"type\"] == \"audio_edit\":\n",
    "\t\t\tnew_edits = {\n",
    "                    \"dissolve_in\" : edl[line][\"dissolve_in\"],\n",
    "                    \"dissolve_out\" : edl[line][\"dissolve_out\"],\n",
    "                    \"edit_in\" : edl[line][\"edit_in\"],\n",
    "                    \"edit_out\" : edl[line][\"edit_out\"],\n",
    "                    \"media_file\" : edl[line][\"media_file\"]            \n",
    "                }\n",
    "                  \n",
    "\t\t\tnew_edit_list.append(new_edits)\n",
    "\n",
    "\n",
    "\t\telif edl[line][\"type\"] == \"cut_in_cut_out\":\n",
    "\t\t\tnew_in = edl[line][\"edit_in\"]\n",
    "\t\t\tnew_out = edl[line][\"edit_out\"]\n",
    "\t\t\tnew_dissolve_in = 0\n",
    "\t\t\tnew_dissolve_out = 0\n",
    "\t\t\tnew_edits = {}\n",
    "\n",
    "\t\t\t#  Dissolve In - Dissolve Out\n",
    "\t\t\tfor check in range(0, len(edl)):\n",
    "\t\t\t\tif (edl[check][\"type\"] == \"dissolve_in\" and\n",
    "\t\t\t\t\tedl[line][\"edit_in\"] == edl[check][\"edit_out\"] and\n",
    "\t\t\t\t\tedl[line][\"media_file\"] == edl[check][\"media_file\"]\n",
    "\t\t\t\t\t):\n",
    "\n",
    "\t\t\t\t\tnew_in = edl[check][\"edit_in\"]\n",
    "\t\t\t\t\tnew_dissolve_in = edl[check][\"dissolve_in\"]\n",
    "\n",
    "\n",
    "\t\t\t\tif (edl[check][\"type\"] == \"dissolve_out\" and\n",
    "\t\t\t\t\tedl[line][\"edit_out\"] == edl[check][\"edit_in\"] and\n",
    "\t\t\t\t\tedl[line][\"media_file\"] == edl[check][\"media_file\"]\n",
    "\t\t\t\t\t):\n",
    "\n",
    "\t\t\t\t\tnew_out = edl[check][\"edit_out\"]\n",
    "\t\t\t\t\tnew_dissolve_out = edl[check][\"dissolve_out\"]\n",
    "\n",
    "\t\t\tnew_edits = {\n",
    "                    \"dissolve_in\" : new_dissolve_in,\n",
    "                    \"dissolve_out\" : new_dissolve_out,\n",
    "                    \"edit_in\" : new_in,\n",
    "                    \"edit_out\" : new_out,\n",
    "                    \"media_file\" : edl[line][\"media_file\"]            \n",
    "                }\n",
    "                  \n",
    "\t\t\tnew_edit_list.append(new_edits)\n",
    "\n",
    "\treturn new_edit_list\n"
   ]
  },
  {
   "cell_type": "markdown",
   "metadata": {},
   "source": [
    "### Execution "
   ]
  },
  {
   "cell_type": "code",
   "execution_count": 2763,
   "metadata": {},
   "outputs": [
    {
     "name": "stdout",
     "output_type": "stream",
     "text": [
      "------Video Edits-------\n",
      "[{'dissolve_in': 0,\n",
      "  'dissolve_out': 0,\n",
      "  'edit_in': '01:00:20:11',\n",
      "  'edit_out': '01:00:45:05',\n",
      "  'media_file': 'CUT-IN-CUT-OUT'},\n",
      " {'dissolve_in': 10,\n",
      "  'dissolve_out': 0,\n",
      "  'edit_in': '01:00:47:24',\n",
      "  'edit_out': '01:01:08:16',\n",
      "  'media_file': 'DISSOLVE-IN-CUT-OUT'},\n",
      " {'dissolve_in': 10,\n",
      "  'dissolve_out': 10,\n",
      "  'edit_in': '01:01:12:03',\n",
      "  'edit_out': '01:01:32:00',\n",
      "  'media_file': 'DISSOLVE-IN-DISSOLVE-OUT'},\n",
      " {'dissolve_in': 0,\n",
      "  'dissolve_out': 10,\n",
      "  'edit_in': '01:01:35:17',\n",
      "  'edit_out': '01:02:00:02',\n",
      "  'media_file': 'CUT-IN-DISSOLVE-OUT'}]\n",
      "------Audio Edits-------\n",
      "[{'dissolve_in': 0,\n",
      "  'dissolve_out': 0,\n",
      "  'edit_in': '01:01:39:05',\n",
      "  'edit_out': '01:01:42:22',\n",
      "  'media_file': '\\\\HUMANASEP2024\\\\RAIN0630H'}]\n"
     ]
    }
   ],
   "source": [
    "open_edl(edl_path)\n",
    "\n",
    "\n",
    "print(\"------Video Edits-------\")\n",
    "pprint(video_edits)\n",
    "print(\"------Audio Edits-------\")\n",
    "pprint(audio_edits)"
   ]
  }
 ],
 "metadata": {
  "kernelspec": {
   "display_name": "base",
   "language": "python",
   "name": "python3"
  },
  "language_info": {
   "codemirror_mode": {
    "name": "ipython",
    "version": 3
   },
   "file_extension": ".py",
   "mimetype": "text/x-python",
   "name": "python",
   "nbconvert_exporter": "python",
   "pygments_lexer": "ipython3",
   "version": "3.11.5"
  }
 },
 "nbformat": 4,
 "nbformat_minor": 2
}
